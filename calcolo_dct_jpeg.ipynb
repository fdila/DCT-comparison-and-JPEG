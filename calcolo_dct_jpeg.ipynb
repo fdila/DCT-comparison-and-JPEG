{
  "nbformat": 4,
  "nbformat_minor": 0,
  "metadata": {
    "colab": {
      "name": "Calcolo_dct_jpeg.ipynb",
      "provenance": [],
      "collapsed_sections": []
    },
    "kernelspec": {
      "name": "python3",
      "display_name": "Python 3"
    },
    "language_info": {
      "name": "python"
    }
  },
  "cells": [
    {
      "cell_type": "markdown",
      "metadata": {
        "id": "DHQVXhVD9FUS"
      },
      "source": [
        "# Progetto calcolo scientifico, DCT e JPEG"
      ]
    },
    {
      "cell_type": "markdown",
      "metadata": {
        "id": "EOx-7wekADr-"
      },
      "source": [
        "## Parte 1\n",
        "\n",
        "Implementazione DCT e DCT2 custom\n",
        "\n",
        "Formula DCT1:\n",
        "$$\n",
        "c_k=a_k^N\\sum_{i=0}^{N-1}f_i\\cos\\left(k\\pi\\frac{2i+1}{2N}\\right)\\mbox{ } \\forall k\\in[0,N-1]\n",
        "$$"
      ]
    },
    {
      "cell_type": "code",
      "metadata": {
        "id": "zzZWdlFYnQUf"
      },
      "source": [
        "import matplotlib.pyplot as plt\n",
        "import matplotlib.image as mpimg\n",
        "from matplotlib import rcParams\n",
        "import numpy as np\n",
        "from scipy.fft import dctn, idctn\n",
        "import time\n",
        "import math\n",
        "\n",
        "\n",
        "%matplotlib inline"
      ],
      "execution_count": null,
      "outputs": []
    },
    {
      "cell_type": "code",
      "metadata": {
        "id": "hkdlkVJSoADT"
      },
      "source": [
        "#definizione dct\n",
        "def my_dct(f):\n",
        "  c = np.zeros(f.size)\n",
        "  N = f.size\n",
        "  for k in range(N):\n",
        "    sum = 0\n",
        "    a = math.sqrt(1. / N) if k == 0 else math.sqrt(2. / N)\n",
        "    for i in range(N):\n",
        "      sum += f[i] * math.cos((k * math.pi * (2 * i + 1)) / (2 * N))\n",
        "    c[k] = a * sum\n",
        "  return c\n",
        "\n",
        "#definizione dct2, chiamando la dct su righe e colonne\n",
        "def my_dct2(m):\n",
        "  c = np.zeros(m.shape)\n",
        "  c = np.apply_along_axis(my_dct, axis=1, arr=m)\n",
        "  c = np.apply_along_axis(my_dct, axis=0, arr=c)\n",
        "  return c"
      ],
      "execution_count": null,
      "outputs": []
    },
    {
      "cell_type": "code",
      "metadata": {
        "colab": {
          "base_uri": "https://localhost:8080/"
        },
        "id": "MxlzoFu3s1Y4",
        "outputId": "ada6f4ec-a601-425e-e687-6f2eea6676d4"
      },
      "source": [
        "TEST_DCT = np.array([231,  32, 233, 161,  24,  71, 140, 245])\n",
        "\n",
        "c = my_dct(TEST_DCT)\n",
        "\n",
        "TEST_DCT_RESULT = np.array([ 401.9902051 ,    6.60001991,  109.16736544, -112.78557857,\n",
        "         65.40737726,  121.83139804,  116.65648855,   28.80040722])\n",
        "\n",
        "if np.equal(c.all(), TEST_DCT_RESULT.all()):\n",
        "  print(\"DCT1 test passato\")\n",
        "else:\n",
        "  print(\"DCT1 test non passato\")\n"
      ],
      "execution_count": null,
      "outputs": [
        {
          "output_type": "stream",
          "text": [
            "DCT1 test passato\n"
          ],
          "name": "stdout"
        }
      ]
    },
    {
      "cell_type": "code",
      "metadata": {
        "colab": {
          "base_uri": "https://localhost:8080/"
        },
        "id": "8Ru6hvjjt4kq",
        "outputId": "f4e16f34-b9d2-462b-9084-db4c7c17de50"
      },
      "source": [
        "TEST_DCT2 = np.array([[231,  32, 233, 161,  24,  71, 140, 245],\n",
        "                     [247,  40, 248, 245, 124, 204,  36, 107],\n",
        "                     [234, 202, 245, 167,   9, 217, 239, 173],\n",
        "                     [193, 190, 100, 167,  43, 180,   8,  70],\n",
        "                     [ 11,  24, 210, 177,  81, 243,   8, 112],\n",
        "                     [ 97, 195, 203,  47, 125, 114, 165, 181],\n",
        "                     [193,  70, 174, 167,  41,  30, 127, 245],\n",
        "                     [ 87, 149,  57, 192,  65, 129, 178, 228]])\n",
        "\n",
        "c2 = my_dct2(TEST_DCT2)\n",
        "\n",
        "TEST_DCT2_RESULT = np.array([[ 1.11875000e+03,  4.40221926e+01,  7.59190503e+01,\n",
        "        -1.38572411e+02,  3.50000000e+00,  1.22078055e+02,\n",
        "         1.95043868e+02, -1.01604906e+02],\n",
        "       [ 7.71900790e+01,  1.14868206e+02, -2.18014421e+01,\n",
        "         4.13641351e+01,  8.77720598e+00,  9.90829620e+01,\n",
        "         1.38171516e+02,  1.09092795e+01],\n",
        "       [ 4.48351537e+01, -6.27524464e+01,  1.11614114e+02,\n",
        "        -7.63789658e+01,  1.24422160e+02,  9.55984194e+01,\n",
        "        -3.98287969e+01,  5.85237670e+01],\n",
        "       [-6.99836647e+01, -4.02408945e+01, -2.34970508e+01,\n",
        "        -7.67320594e+01,  2.66457750e+01, -3.68328290e+01,\n",
        "         6.61891485e+01,  1.25429731e+02],\n",
        "       [-1.09000000e+02, -4.33430857e+01, -5.55436908e+01,\n",
        "         8.17347083e+00,  3.02500000e+01, -2.86602437e+01,\n",
        "         2.44149822e+00, -9.41437025e+01],\n",
        "       [-5.38783591e+00,  5.66345009e+01,  1.73021519e+02,\n",
        "        -3.54234494e+01,  3.23878249e+01,  3.34576728e+01,\n",
        "        -5.81167864e+01,  1.90225615e+01],\n",
        "       [ 7.88439693e+01, -6.45924096e+01,  1.18671203e+02,\n",
        "        -1.50904840e+01, -1.37316928e+02, -3.06196663e+01,\n",
        "        -1.05114114e+02,  3.98130497e+01],\n",
        "       [ 1.97882438e+01, -7.81813409e+01,  9.72311860e-01,\n",
        "        -7.23464180e+01, -2.15781633e+01,  8.12999035e+01,\n",
        "         6.37103782e+01,  5.90618071e+00]])\n",
        "\n",
        "if np.equal(c2.all(), TEST_DCT2_RESULT.all()):\n",
        "  print(\"DCT2 test passato\")\n",
        "else:\n",
        "  print(\"DCT2 test non passato\")\n"
      ],
      "execution_count": null,
      "outputs": [
        {
          "output_type": "stream",
          "text": [
            "DCT2 test passato\n"
          ],
          "name": "stdout"
        }
      ]
    },
    {
      "cell_type": "code",
      "metadata": {
        "colab": {
          "base_uri": "https://localhost:8080/"
        },
        "id": "9YzAbWE0ufyx",
        "outputId": "ed6d280c-41bf-4c3c-dee4-7df8e240ca19"
      },
      "source": [
        "#TODO capire ortho (ok cambia calcolo alpha)\n",
        "scipy_c2 = dctn(TEST_MAT, norm='ortho')\n",
        "\n",
        "if np.equal(scipy_c2.all(), TEST_DCT2_RESULT.all()):\n",
        "  print(\"DCT2 test passato\")\n",
        "else:\n",
        "  print(\"DCT2 test non passato\")"
      ],
      "execution_count": null,
      "outputs": [
        {
          "output_type": "stream",
          "text": [
            "DCT2 test passato\n"
          ],
          "name": "stdout"
        }
      ]
    },
    {
      "cell_type": "code",
      "metadata": {
        "id": "S3A_FL5Mv6ff"
      },
      "source": [
        "#test performance my_dct2 vs scipy dctn\n",
        "time_custom_array = []\n",
        "time_scipy_array = []\n",
        "n_array = []\n",
        "for N in range(10, 300+1, 30):\n",
        "  img = np.random.uniform(low=0.0, high=255.0, size=(N, N))\n",
        "  n_array.append(N)\n",
        "\n",
        "  start = time.perf_counter()\n",
        "  custom_res = my_dct2(img)\n",
        "  stop = time.perf_counter()\n",
        "  time_custom = stop - start\n",
        "  \n",
        "  time_custom_array.append(time_custom)\n",
        "\n",
        "  start = time.perf_counter()\n",
        "  scipy_res = dctn(img, norm='ortho')\n",
        "  stop = time.perf_counter()\n",
        "  time_scipy = stop - start\n",
        "\n",
        "  time_scipy_array.append(time_scipy)"
      ],
      "execution_count": null,
      "outputs": []
    },
    {
      "cell_type": "code",
      "metadata": {
        "colab": {
          "base_uri": "https://localhost:8080/",
          "height": 338
        },
        "id": "_s9hNPzG0nGN",
        "outputId": "ad098f06-12cd-4b49-efd7-adc90abadbe1"
      },
      "source": [
        "#plot tempi\n",
        "def power(my_list, degree):\n",
        "    return [ x**degree for x in my_list ]\n",
        "\n",
        "def powerlog(my_list, degree):\n",
        "    return [ x**degree*math.log(x) for x in my_list ]\n",
        "\n",
        "n_3 = power(n_array, 3)\n",
        "n_2 = powerlog(n_array, 2)\n",
        "\n",
        "fig = plt.figure()\n",
        "ax = plt.axes()\n",
        "\n",
        "ax.set_yscale('log')\n",
        "ax.plot(n_array, time_custom_array, label='my_dct2')\n",
        "ax.plot(n_array, n_3, label='n^3')\n",
        "ax.plot(n_array, time_scipy_array, label='scipy_dct2')\n",
        "ax.plot(n_array, n_2, label='n^2*log(n)')\n",
        "ax.legend()\n"
      ],
      "execution_count": null,
      "outputs": [
        {
          "output_type": "execute_result",
          "data": {
            "text/plain": [
              "<matplotlib.legend.Legend at 0x7f73d5eab490>"
            ]
          },
          "metadata": {
            "tags": []
          },
          "execution_count": 71
        },
        {
          "output_type": "display_data",
          "data": {
            "image/png": "[encoded data removed]",
            "text/plain": [
              "<Figure size 720x360 with 1 Axes>"
            ]
          },
          "metadata": {
            "tags": [],
            "needs_background": "light"
          }
        }
      ]
    },
    {
      "cell_type": "markdown",
      "metadata": {
        "id": "dygFNW9P_14l"
      },
      "source": [
        "## Parte 2\n",
        "\n",
        "Implementazione algoritmo JPEG"
      ]
    },
    {
      "cell_type": "code",
      "metadata": {
        "id": "UhMyXX-i71Ab"
      },
      "source": [
        "# figure size in inches optional\n",
        "rcParams['figure.figsize'] = 20 ,20\n",
        "\n",
        "# read images\n",
        "img_A = mpimg.imread(fname='big_building.bmp', format='bmp')\n",
        "img_B = mpimg.imread(fname='big_building.bmp', format='bmp')\n",
        "\n",
        "# display images\n",
        "fig, ax = plt.subplots(1,2)\n",
        "ax[0].axis('off')\n",
        "ax[0].imshow(img_A, cmap='gray')\n",
        "ax[1].axis('off')\n",
        "ax[1].imshow(img_B, cmap='gray')"
      ],
      "execution_count": null,
      "outputs": []
    },
    {
      "cell_type": "code",
      "metadata": {
        "id": "jc6flFc8DQiu"
      },
      "source": [
        "#TODO split in blocchetti FxF\n",
        "\n",
        "#TODO applicare DCT ad ogni blocchetto\n",
        "\n",
        "#TODO eliminare frequenze in base a d\n",
        "\n",
        "#TODO ricomporre immagine con idctn\n",
        "\n",
        "#TODO visualizzare immagini"
      ],
      "execution_count": null,
      "outputs": []
    }
  ]
}