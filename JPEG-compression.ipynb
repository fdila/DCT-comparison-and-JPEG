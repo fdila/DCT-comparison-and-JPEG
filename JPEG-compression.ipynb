{
  "nbformat": 4,
  "nbformat_minor": 0,
  "metadata": {
    "colab": {
      "name": "JPEG-compression.ipynb",
      "provenance": [],
      "collapsed_sections": []
    },
    "kernelspec": {
      "name": "python3",
      "display_name": "Python 3"
    },
    "language_info": {
      "name": "python"
    },
    "widgets": {
      "application/vnd.jupyter.widget-state+json": {
        "fd7bc80e71104ad28c6edc493a26f6b2": {
          "model_module": "@jupyter-widgets/controls",
          "model_name": "VBoxModel",
          "state": {
            "_view_name": "VBoxView",
            "_dom_classes": [
              "widget-interact"
            ],
            "_model_name": "VBoxModel",
            "_view_module": "@jupyter-widgets/controls",
            "_model_module_version": "1.5.0",
            "_view_count": null,
            "_view_module_version": "1.5.0",
            "box_style": "",
            "layout": "IPY_MODEL_908f5bb15e4545d3ba288c7b18b2a3bc",
            "_model_module": "@jupyter-widgets/controls",
            "children": [
              "IPY_MODEL_16e6eca955f74e5cb51f3706af7dec2f",
              "IPY_MODEL_f63431056c9143a7875a8309101a36d8"
            ]
          }
        },
        "908f5bb15e4545d3ba288c7b18b2a3bc": {
          "model_module": "@jupyter-widgets/base",
          "model_name": "LayoutModel",
          "state": {
            "_view_name": "LayoutView",
            "grid_template_rows": null,
            "right": null,
            "justify_content": null,
            "_view_module": "@jupyter-widgets/base",
            "overflow": null,
            "_model_module_version": "1.2.0",
            "_view_count": null,
            "flex_flow": null,
            "width": null,
            "min_width": null,
            "border": null,
            "align_items": null,
            "bottom": null,
            "_model_module": "@jupyter-widgets/base",
            "top": null,
            "grid_column": null,
            "overflow_y": null,
            "overflow_x": null,
            "grid_auto_flow": null,
            "grid_area": null,
            "grid_template_columns": null,
            "flex": null,
            "_model_name": "LayoutModel",
            "justify_items": null,
            "grid_row": null,
            "max_height": null,
            "align_content": null,
            "visibility": null,
            "align_self": null,
            "height": null,
            "min_height": null,
            "padding": null,
            "grid_auto_rows": null,
            "grid_gap": null,
            "max_width": null,
            "order": null,
            "_view_module_version": "1.2.0",
            "grid_template_areas": null,
            "object_position": null,
            "object_fit": null,
            "grid_auto_columns": null,
            "margin": null,
            "display": null,
            "left": null
          }
        },
        "16e6eca955f74e5cb51f3706af7dec2f": {
          "model_module": "@jupyter-widgets/controls",
          "model_name": "DropdownModel",
          "state": {
            "_options_labels": [
              "jump2.bmp",
              "jump1.bmp",
              "fireworks.bmp"
            ],
            "_view_name": "DropdownView",
            "style": "IPY_MODEL_1ff59a1fee294c36a954d02905edc259",
            "_dom_classes": [],
            "description": "file",
            "_model_name": "DropdownModel",
            "index": 1,
            "_view_module": "@jupyter-widgets/controls",
            "_model_module_version": "1.5.0",
            "_view_count": null,
            "disabled": false,
            "_view_module_version": "1.5.0",
            "description_tooltip": null,
            "_model_module": "@jupyter-widgets/controls",
            "layout": "IPY_MODEL_0f1161cbefe24589bbd48a591a1e8513"
          }
        },
        "f63431056c9143a7875a8309101a36d8": {
          "model_module": "@jupyter-widgets/output",
          "model_name": "OutputModel",
          "state": {
            "_view_name": "OutputView",
            "msg_id": "",
            "_dom_classes": [],
            "_model_name": "OutputModel",
            "outputs": [
              {
                "output_type": "display_data",
                "metadata": {
                  "tags": [],
                  "needs_background": "light"
                },
                "image/png": "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\n",
                "text/plain": "<Figure size 720x720 with 1 Axes>"
              }
            ],
            "_view_module": "@jupyter-widgets/output",
            "_model_module_version": "1.0.0",
            "_view_count": null,
            "_view_module_version": "1.0.0",
            "layout": "IPY_MODEL_a418a864e521403bb3b9199cb72c2dbd",
            "_model_module": "@jupyter-widgets/output"
          }
        },
        "1ff59a1fee294c36a954d02905edc259": {
          "model_module": "@jupyter-widgets/controls",
          "model_name": "DescriptionStyleModel",
          "state": {
            "_view_name": "StyleView",
            "_model_name": "DescriptionStyleModel",
            "description_width": "",
            "_view_module": "@jupyter-widgets/base",
            "_model_module_version": "1.5.0",
            "_view_count": null,
            "_view_module_version": "1.2.0",
            "_model_module": "@jupyter-widgets/controls"
          }
        },
        "0f1161cbefe24589bbd48a591a1e8513": {
          "model_module": "@jupyter-widgets/base",
          "model_name": "LayoutModel",
          "state": {
            "_view_name": "LayoutView",
            "grid_template_rows": null,
            "right": null,
            "justify_content": null,
            "_view_module": "@jupyter-widgets/base",
            "overflow": null,
            "_model_module_version": "1.2.0",
            "_view_count": null,
            "flex_flow": null,
            "width": null,
            "min_width": null,
            "border": null,
            "align_items": null,
            "bottom": null,
            "_model_module": "@jupyter-widgets/base",
            "top": null,
            "grid_column": null,
            "overflow_y": null,
            "overflow_x": null,
            "grid_auto_flow": null,
            "grid_area": null,
            "grid_template_columns": null,
            "flex": null,
            "_model_name": "LayoutModel",
            "justify_items": null,
            "grid_row": null,
            "max_height": null,
            "align_content": null,
            "visibility": null,
            "align_self": null,
            "height": null,
            "min_height": null,
            "padding": null,
            "grid_auto_rows": null,
            "grid_gap": null,
            "max_width": null,
            "order": null,
            "_view_module_version": "1.2.0",
            "grid_template_areas": null,
            "object_position": null,
            "object_fit": null,
            "grid_auto_columns": null,
            "margin": null,
            "display": null,
            "left": null
          }
        },
        "a418a864e521403bb3b9199cb72c2dbd": {
          "model_module": "@jupyter-widgets/base",
          "model_name": "LayoutModel",
          "state": {
            "_view_name": "LayoutView",
            "grid_template_rows": null,
            "right": null,
            "justify_content": null,
            "_view_module": "@jupyter-widgets/base",
            "overflow": null,
            "_model_module_version": "1.2.0",
            "_view_count": null,
            "flex_flow": null,
            "width": null,
            "min_width": null,
            "border": null,
            "align_items": null,
            "bottom": null,
            "_model_module": "@jupyter-widgets/base",
            "top": null,
            "grid_column": null,
            "overflow_y": null,
            "overflow_x": null,
            "grid_auto_flow": null,
            "grid_area": null,
            "grid_template_columns": null,
            "flex": null,
            "_model_name": "LayoutModel",
            "justify_items": null,
            "grid_row": null,
            "max_height": null,
            "align_content": null,
            "visibility": null,
            "align_self": null,
            "height": null,
            "min_height": null,
            "padding": null,
            "grid_auto_rows": null,
            "grid_gap": null,
            "max_width": null,
            "order": null,
            "_view_module_version": "1.2.0",
            "grid_template_areas": null,
            "object_position": null,
            "object_fit": null,
            "grid_auto_columns": null,
            "margin": null,
            "display": null,
            "left": null
          }
        },
        "483dbaea607c4996bded05296f377997": {
          "model_module": "@jupyter-widgets/controls",
          "model_name": "VBoxModel",
          "state": {
            "_view_name": "VBoxView",
            "_dom_classes": [
              "widget-interact"
            ],
            "_model_name": "VBoxModel",
            "_view_module": "@jupyter-widgets/controls",
            "_model_module_version": "1.5.0",
            "_view_count": null,
            "_view_module_version": "1.5.0",
            "box_style": "",
            "layout": "IPY_MODEL_6abbb1dc4b014f659dda79d96cddada7",
            "_model_module": "@jupyter-widgets/controls",
            "children": [
              "IPY_MODEL_39ddeec040f34a09a79d3cc066af7943",
              "IPY_MODEL_2f2758d268c0444a990f2120db97d8b4"
            ]
          }
        },
        "6abbb1dc4b014f659dda79d96cddada7": {
          "model_module": "@jupyter-widgets/base",
          "model_name": "LayoutModel",
          "state": {
            "_view_name": "LayoutView",
            "grid_template_rows": null,
            "right": null,
            "justify_content": null,
            "_view_module": "@jupyter-widgets/base",
            "overflow": null,
            "_model_module_version": "1.2.0",
            "_view_count": null,
            "flex_flow": null,
            "width": null,
            "min_width": null,
            "border": null,
            "align_items": null,
            "bottom": null,
            "_model_module": "@jupyter-widgets/base",
            "top": null,
            "grid_column": null,
            "overflow_y": null,
            "overflow_x": null,
            "grid_auto_flow": null,
            "grid_area": null,
            "grid_template_columns": null,
            "flex": null,
            "_model_name": "LayoutModel",
            "justify_items": null,
            "grid_row": null,
            "max_height": null,
            "align_content": null,
            "visibility": null,
            "align_self": null,
            "height": null,
            "min_height": null,
            "padding": null,
            "grid_auto_rows": null,
            "grid_gap": null,
            "max_width": null,
            "order": null,
            "_view_module_version": "1.2.0",
            "grid_template_areas": null,
            "object_position": null,
            "object_fit": null,
            "grid_auto_columns": null,
            "margin": null,
            "display": null,
            "left": null
          }
        },
        "39ddeec040f34a09a79d3cc066af7943": {
          "model_module": "@jupyter-widgets/controls",
          "model_name": "IntSliderModel",
          "state": {
            "_view_name": "IntSliderView",
            "style": "IPY_MODEL_025e34e9b2344394b7c67cf13b15af6b",
            "_dom_classes": [],
            "description": "F",
            "step": 1,
            "_model_name": "IntSliderModel",
            "orientation": "horizontal",
            "max": 20,
            "_view_module": "@jupyter-widgets/controls",
            "_model_module_version": "1.5.0",
            "value": 11,
            "_view_count": null,
            "disabled": false,
            "_view_module_version": "1.5.0",
            "min": 2,
            "continuous_update": true,
            "readout_format": "d",
            "description_tooltip": null,
            "readout": true,
            "_model_module": "@jupyter-widgets/controls",
            "layout": "IPY_MODEL_d31b5a5c520347b38cf1f95a1c460b39"
          }
        },
        "2f2758d268c0444a990f2120db97d8b4": {
          "model_module": "@jupyter-widgets/output",
          "model_name": "OutputModel",
          "state": {
            "_view_name": "OutputView",
            "msg_id": "",
            "_dom_classes": [],
            "_model_name": "OutputModel",
            "outputs": [
              {
                "output_type": "display_data",
                "metadata": {
                  "tags": []
                },
                "application/vnd.jupyter.widget-view+json": {
                  "model_id": "5feb0e8217bb4e65be64b3d89bfd9574",
                  "version_minor": 0,
                  "version_major": 2
                },
                "text/plain": "interactive(children=(IntSlider(value=10, description='d', max=20, min=1), Output()), _dom_classes=('widget-in…"
              }
            ],
            "_view_module": "@jupyter-widgets/output",
            "_model_module_version": "1.0.0",
            "_view_count": null,
            "_view_module_version": "1.0.0",
            "layout": "IPY_MODEL_5e944be6fb074c7880b7f93bd1775c11",
            "_model_module": "@jupyter-widgets/output"
          }
        },
        "025e34e9b2344394b7c67cf13b15af6b": {
          "model_module": "@jupyter-widgets/controls",
          "model_name": "SliderStyleModel",
          "state": {
            "_view_name": "StyleView",
            "handle_color": null,
            "_model_name": "SliderStyleModel",
            "description_width": "",
            "_view_module": "@jupyter-widgets/base",
            "_model_module_version": "1.5.0",
            "_view_count": null,
            "_view_module_version": "1.2.0",
            "_model_module": "@jupyter-widgets/controls"
          }
        },
        "d31b5a5c520347b38cf1f95a1c460b39": {
          "model_module": "@jupyter-widgets/base",
          "model_name": "LayoutModel",
          "state": {
            "_view_name": "LayoutView",
            "grid_template_rows": null,
            "right": null,
            "justify_content": null,
            "_view_module": "@jupyter-widgets/base",
            "overflow": null,
            "_model_module_version": "1.2.0",
            "_view_count": null,
            "flex_flow": null,
            "width": null,
            "min_width": null,
            "border": null,
            "align_items": null,
            "bottom": null,
            "_model_module": "@jupyter-widgets/base",
            "top": null,
            "grid_column": null,
            "overflow_y": null,
            "overflow_x": null,
            "grid_auto_flow": null,
            "grid_area": null,
            "grid_template_columns": null,
            "flex": null,
            "_model_name": "LayoutModel",
            "justify_items": null,
            "grid_row": null,
            "max_height": null,
            "align_content": null,
            "visibility": null,
            "align_self": null,
            "height": null,
            "min_height": null,
            "padding": null,
            "grid_auto_rows": null,
            "grid_gap": null,
            "max_width": null,
            "order": null,
            "_view_module_version": "1.2.0",
            "grid_template_areas": null,
            "object_position": null,
            "object_fit": null,
            "grid_auto_columns": null,
            "margin": null,
            "display": null,
            "left": null
          }
        },
        "5feb0e8217bb4e65be64b3d89bfd9574": {
          "model_module": "@jupyter-widgets/controls",
          "model_name": "VBoxModel",
          "state": {
            "_view_name": "VBoxView",
            "_dom_classes": [
              "widget-interact"
            ],
            "_model_name": "VBoxModel",
            "_view_module": "@jupyter-widgets/controls",
            "_model_module_version": "1.5.0",
            "_view_count": null,
            "_view_module_version": "1.5.0",
            "box_style": "",
            "layout": "IPY_MODEL_ddbe69ab07504c3c85fc0da2283fe345",
            "_model_module": "@jupyter-widgets/controls",
            "children": [
              "IPY_MODEL_bca3df77476d4adf820cf6828b101b96",
              "IPY_MODEL_c8b6c6cb9b264ae3bc95c337de66b9a6"
            ]
          }
        },
        "5e944be6fb074c7880b7f93bd1775c11": {
          "model_module": "@jupyter-widgets/base",
          "model_name": "LayoutModel",
          "state": {
            "_view_name": "LayoutView",
            "grid_template_rows": null,
            "right": null,
            "justify_content": null,
            "_view_module": "@jupyter-widgets/base",
            "overflow": null,
            "_model_module_version": "1.2.0",
            "_view_count": null,
            "flex_flow": null,
            "width": null,
            "min_width": null,
            "border": null,
            "align_items": null,
            "bottom": null,
            "_model_module": "@jupyter-widgets/base",
            "top": null,
            "grid_column": null,
            "overflow_y": null,
            "overflow_x": null,
            "grid_auto_flow": null,
            "grid_area": null,
            "grid_template_columns": null,
            "flex": null,
            "_model_name": "LayoutModel",
            "justify_items": null,
            "grid_row": null,
            "max_height": null,
            "align_content": null,
            "visibility": null,
            "align_self": null,
            "height": null,
            "min_height": null,
            "padding": null,
            "grid_auto_rows": null,
            "grid_gap": null,
            "max_width": null,
            "order": null,
            "_view_module_version": "1.2.0",
            "grid_template_areas": null,
            "object_position": null,
            "object_fit": null,
            "grid_auto_columns": null,
            "margin": null,
            "display": null,
            "left": null
          }
        },
        "ddbe69ab07504c3c85fc0da2283fe345": {
          "model_module": "@jupyter-widgets/base",
          "model_name": "LayoutModel",
          "state": {
            "_view_name": "LayoutView",
            "grid_template_rows": null,
            "right": null,
            "justify_content": null,
            "_view_module": "@jupyter-widgets/base",
            "overflow": null,
            "_model_module_version": "1.2.0",
            "_view_count": null,
            "flex_flow": null,
            "width": null,
            "min_width": null,
            "border": null,
            "align_items": null,
            "bottom": null,
            "_model_module": "@jupyter-widgets/base",
            "top": null,
            "grid_column": null,
            "overflow_y": null,
            "overflow_x": null,
            "grid_auto_flow": null,
            "grid_area": null,
            "grid_template_columns": null,
            "flex": null,
            "_model_name": "LayoutModel",
            "justify_items": null,
            "grid_row": null,
            "max_height": null,
            "align_content": null,
            "visibility": null,
            "align_self": null,
            "height": null,
            "min_height": null,
            "padding": null,
            "grid_auto_rows": null,
            "grid_gap": null,
            "max_width": null,
            "order": null,
            "_view_module_version": "1.2.0",
            "grid_template_areas": null,
            "object_position": null,
            "object_fit": null,
            "grid_auto_columns": null,
            "margin": null,
            "display": null,
            "left": null
          }
        },
        "bca3df77476d4adf820cf6828b101b96": {
          "model_module": "@jupyter-widgets/controls",
          "model_name": "IntSliderModel",
          "state": {
            "_view_name": "IntSliderView",
            "style": "IPY_MODEL_0f3a8b00296f4cfba519ee84e8252c4b",
            "_dom_classes": [],
            "description": "d",
            "step": 1,
            "_model_name": "IntSliderModel",
            "orientation": "horizontal",
            "max": 20,
            "_view_module": "@jupyter-widgets/controls",
            "_model_module_version": "1.5.0",
            "value": 10,
            "_view_count": null,
            "disabled": false,
            "_view_module_version": "1.5.0",
            "min": 1,
            "continuous_update": true,
            "readout_format": "d",
            "description_tooltip": null,
            "readout": true,
            "_model_module": "@jupyter-widgets/controls",
            "layout": "IPY_MODEL_bc63817fceeb41a8bd7902200197828b"
          }
        },
        "c8b6c6cb9b264ae3bc95c337de66b9a6": {
          "model_module": "@jupyter-widgets/output",
          "model_name": "OutputModel",
          "state": {
            "_view_name": "OutputView",
            "msg_id": "",
            "_dom_classes": [],
            "_model_name": "OutputModel",
            "outputs": [],
            "_view_module": "@jupyter-widgets/output",
            "_model_module_version": "1.0.0",
            "_view_count": null,
            "_view_module_version": "1.0.0",
            "layout": "IPY_MODEL_b93bb6d312e14ecf9bb230cd5b9f93a2",
            "_model_module": "@jupyter-widgets/output"
          }
        },
        "0f3a8b00296f4cfba519ee84e8252c4b": {
          "model_module": "@jupyter-widgets/controls",
          "model_name": "SliderStyleModel",
          "state": {
            "_view_name": "StyleView",
            "handle_color": null,
            "_model_name": "SliderStyleModel",
            "description_width": "",
            "_view_module": "@jupyter-widgets/base",
            "_model_module_version": "1.5.0",
            "_view_count": null,
            "_view_module_version": "1.2.0",
            "_model_module": "@jupyter-widgets/controls"
          }
        },
        "bc63817fceeb41a8bd7902200197828b": {
          "model_module": "@jupyter-widgets/base",
          "model_name": "LayoutModel",
          "state": {
            "_view_name": "LayoutView",
            "grid_template_rows": null,
            "right": null,
            "justify_content": null,
            "_view_module": "@jupyter-widgets/base",
            "overflow": null,
            "_model_module_version": "1.2.0",
            "_view_count": null,
            "flex_flow": null,
            "width": null,
            "min_width": null,
            "border": null,
            "align_items": null,
            "bottom": null,
            "_model_module": "@jupyter-widgets/base",
            "top": null,
            "grid_column": null,
            "overflow_y": null,
            "overflow_x": null,
            "grid_auto_flow": null,
            "grid_area": null,
            "grid_template_columns": null,
            "flex": null,
            "_model_name": "LayoutModel",
            "justify_items": null,
            "grid_row": null,
            "max_height": null,
            "align_content": null,
            "visibility": null,
            "align_self": null,
            "height": null,
            "min_height": null,
            "padding": null,
            "grid_auto_rows": null,
            "grid_gap": null,
            "max_width": null,
            "order": null,
            "_view_module_version": "1.2.0",
            "grid_template_areas": null,
            "object_position": null,
            "object_fit": null,
            "grid_auto_columns": null,
            "margin": null,
            "display": null,
            "left": null
          }
        },
        "b93bb6d312e14ecf9bb230cd5b9f93a2": {
          "model_module": "@jupyter-widgets/base",
          "model_name": "LayoutModel",
          "state": {
            "_view_name": "LayoutView",
            "grid_template_rows": null,
            "right": null,
            "justify_content": null,
            "_view_module": "@jupyter-widgets/base",
            "overflow": null,
            "_model_module_version": "1.2.0",
            "_view_count": null,
            "flex_flow": null,
            "width": null,
            "min_width": null,
            "border": null,
            "align_items": null,
            "bottom": null,
            "_model_module": "@jupyter-widgets/base",
            "top": null,
            "grid_column": null,
            "overflow_y": null,
            "overflow_x": null,
            "grid_auto_flow": null,
            "grid_area": null,
            "grid_template_columns": null,
            "flex": null,
            "_model_name": "LayoutModel",
            "justify_items": null,
            "grid_row": null,
            "max_height": null,
            "align_content": null,
            "visibility": null,
            "align_self": null,
            "height": null,
            "min_height": null,
            "padding": null,
            "grid_auto_rows": null,
            "grid_gap": null,
            "max_width": null,
            "order": null,
            "_view_module_version": "1.2.0",
            "grid_template_areas": null,
            "object_position": null,
            "object_fit": null,
            "grid_auto_columns": null,
            "margin": null,
            "display": null,
            "left": null
          }
        }
      }
    }
  },
  "cells": [
    {
      "cell_type": "markdown",
      "metadata": {
        "id": "Z5lMToVURMX_"
      },
      "source": [
        "# Compressione JPEG"
      ]
    },
    {
      "cell_type": "markdown",
      "metadata": {
        "id": "1N3VOAu6RXqD"
      },
      "source": [
        "## Step 1: operazioni preliminari\n",
        "\n",
        "Per prima cosa eseguire la cella sottostante come mostrato in figura.\n",
        "\n",
        "![run_colab.png](data:image/png;base64,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)\n",
        "\n",
        "Verranno eseguiti gli import, viene definita la funzione per la compressione e vengono create le cartelle necessarie."
      ]
    },
    {
      "cell_type": "code",
      "metadata": {
        "id": "SxFZUqMvPByY"
      },
      "source": [
        "import matplotlib.pyplot as plt\n",
        "import matplotlib.image as mpimg\n",
        "from matplotlib import rcParams\n",
        "import numpy as np\n",
        "from scipy.fft import dct, dctn, idctn\n",
        "import time\n",
        "import math\n",
        "\n",
        "import os\n",
        "from IPython.display import Image\n",
        "import ipywidgets as widgets\n",
        "from ipywidgets import interact, interact_manual\n",
        "\n",
        "%matplotlib inline\n",
        "\n",
        "os.makedirs('img', exist_ok=True)\n",
        "os.makedirs('compressed_img', exist_ok=True)\n",
        "\n",
        "#funzione per comprimere immagine data dimensione blocchetto F e soglia d\n",
        "\n",
        "def my_dct_compression(image, F, d):\n",
        "  #compressed_image = image #copy to store the original image\n",
        "  h = image.shape[0]\n",
        "  w = image.shape[1]\n",
        "  if h%F != 0:\n",
        "    h = int(h/F) * F\n",
        "  if w%F != 0:\n",
        "    w = int(w/F) * F\n",
        "\n",
        "  image_to_compress = image[0:h, 0:w]\n",
        "\n",
        "  compressed_image = np.zeros((h, w))\n",
        "  # cycle the image in step of F\n",
        "  for x in range(0,h,F):\n",
        "    for y in range(0,w,F):\n",
        "      cell = image_to_compress[x:x+F, y:y+F]   # width of cell = F, height of cell = F\n",
        "      cell = dctn(cell, type = 2, norm = 'ortho') # discrete cosine transform of the selected cell\n",
        "      c_h = cell.shape[0]\n",
        "      c_w = cell.shape[1]\n",
        "      # delete the frequencies in the cell making reference to d parameter\n",
        "      for i in range(0,c_h):\n",
        "        for j in range(0,c_w):\n",
        "          if i+j >= d:\n",
        "            cell[i,j] = 0 \n",
        "      \n",
        "      # compute the inverse dct of the cell\n",
        "      cell = idctn(cell, type = 2, norm = 'ortho')\n",
        "      #round of ff at the nearest integer, put to 0 negative values, put to 255 bigger values\n",
        "      for i in range(0,c_h):\n",
        "        for j in range(0,c_w):\n",
        "          value = np.round(cell[i,j])\n",
        "          if value < 0:\n",
        "            value = 0\n",
        "          elif value > 255:\n",
        "            value = 255\n",
        "          cell[i,j] = value\n",
        "      compressed_image[x:x+F, y:y+F] = cell\n",
        "\n",
        "  return compressed_image"
      ],
      "execution_count": 12,
      "outputs": []
    },
    {
      "cell_type": "markdown",
      "metadata": {
        "id": "lItuMx9MRyR_"
      },
      "source": [
        "## Step 2: caricamento immagini\n",
        "\n",
        "Caricare le immagini (in formato .bmp) nella cartella img ed eseguire la cella sotto, come mostrato in figura.\n",
        "\n",
        "![aggiorna.png](data:image/png;base64,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)\n",
        "\n",
        "![carica.png](data:image/png;base64,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)\n",
        "\n",
        "Dopo di che selezionare l'immagine dal menù a tendina."
      ]
    },
    {
      "cell_type": "code",
      "metadata": {
        "colab": {
          "base_uri": "https://localhost:8080/",
          "height": 607,
          "referenced_widgets": [
            "fd7bc80e71104ad28c6edc493a26f6b2",
            "908f5bb15e4545d3ba288c7b18b2a3bc",
            "16e6eca955f74e5cb51f3706af7dec2f",
            "f63431056c9143a7875a8309101a36d8",
            "1ff59a1fee294c36a954d02905edc259",
            "0f1161cbefe24589bbd48a591a1e8513",
            "a418a864e521403bb3b9199cb72c2dbd"
          ]
        },
        "id": "xKt3g1jrCkUV",
        "outputId": "5f37e20b-e404-4b71-f748-1b0dff287195"
      },
      "source": [
        "@interact\n",
        "def show_image(file=os.listdir('img/')):\n",
        "    global img_glob\n",
        "    img_glob = mpimg.imread(fname='img/'+file, format='bmp')\n",
        "    global img_name\n",
        "    img_name = file\n",
        "    rcParams['figure.figsize'] = 10 ,10\n",
        "    fig, ax = plt.subplots(1,1)\n",
        "    ax.axis('off')\n",
        "    ax.imshow(img_glob, cmap='gray')"
      ],
      "execution_count": null,
      "outputs": [
        {
          "output_type": "display_data",
          "data": {
            "application/vnd.jupyter.widget-view+json": {
              "model_id": "fd7bc80e71104ad28c6edc493a26f6b2",
              "version_minor": 0,
              "version_major": 2
            },
            "text/plain": [
              "interactive(children=(Dropdown(description='file', options=('jump2.bmp', 'jump1.bmp', 'fireworks.bmp'), value=…"
            ]
          },
          "metadata": {
            "tags": []
          }
        }
      ]
    },
    {
      "cell_type": "markdown",
      "metadata": {
        "id": "TD0mdL4jS1y8"
      },
      "source": [
        "## Step 3: scelta dei parametri per la compressione\n",
        "\n",
        "Eseguire la cella sotto e, attraverso gli slider, selezionare i valori di F e d desiderati."
      ]
    },
    {
      "cell_type": "code",
      "metadata": {
        "id": "L4uuD0ccCkUV",
        "colab": {
          "base_uri": "https://localhost:8080/",
          "height": 81,
          "referenced_widgets": [
            "483dbaea607c4996bded05296f377997",
            "6abbb1dc4b014f659dda79d96cddada7",
            "39ddeec040f34a09a79d3cc066af7943",
            "2f2758d268c0444a990f2120db97d8b4",
            "025e34e9b2344394b7c67cf13b15af6b",
            "d31b5a5c520347b38cf1f95a1c460b39",
            "5feb0e8217bb4e65be64b3d89bfd9574",
            "5e944be6fb074c7880b7f93bd1775c11",
            "ddbe69ab07504c3c85fc0da2283fe345",
            "bca3df77476d4adf820cf6828b101b96",
            "c8b6c6cb9b264ae3bc95c337de66b9a6",
            "0f3a8b00296f4cfba519ee84e8252c4b",
            "bc63817fceeb41a8bd7902200197828b",
            "b93bb6d312e14ecf9bb230cd5b9f93a2"
          ]
        },
        "outputId": "dee65a38-cc6f-4e7d-eefe-d4777539a730"
      },
      "source": [
        "@interact\n",
        "def slider_F(F=(2, 20, 1)):\n",
        "    global F_glob\n",
        "    F_glob = F\n",
        "    @interact\n",
        "    def slider_d(d=(1, 2*F_glob - 2, 1)):\n",
        "        global d_glob\n",
        "        d_glob = d\n",
        "        return\n",
        "    return"
      ],
      "execution_count": null,
      "outputs": [
        {
          "output_type": "display_data",
          "data": {
            "application/vnd.jupyter.widget-view+json": {
              "model_id": "483dbaea607c4996bded05296f377997",
              "version_minor": 0,
              "version_major": 2
            },
            "text/plain": [
              "interactive(children=(IntSlider(value=11, description='F', max=20, min=2), Output()), _dom_classes=('widget-in…"
            ]
          },
          "metadata": {
            "tags": []
          }
        }
      ]
    },
    {
      "cell_type": "markdown",
      "metadata": {
        "id": "Kv_CP85VS_3f"
      },
      "source": [
        "## Step 4: compressione immagine\n",
        "\n",
        "Eseguire l'ultima cella: verrà effettuata la compressione e verranno visualizzate immagine originale e immagine compressa.\n",
        "Verrà inoltre salvato il risultato nella cartella \"compressed_img\""
      ]
    },
    {
      "cell_type": "code",
      "metadata": {
        "id": "tHgzaVaGCkUW",
        "colab": {
          "base_uri": "https://localhost:8080/",
          "height": 538
        },
        "outputId": "86a45e79-1134-4e86-8ec5-602215738c25"
      },
      "source": [
        "# figure size in inches optional\n",
        "rcParams['figure.figsize'] = 20 ,20\n",
        "\n",
        "# compress image\n",
        "compressed_img = my_dct_compression(img_glob, F_glob, d_glob)\n",
        "\n",
        "# display images\n",
        "fig, ax = plt.subplots(1,2)\n",
        "ax[0].axis('off')\n",
        "ax[0].imshow(img_glob, cmap='gray')\n",
        "ax[1].axis('off')\n",
        "ax[1].imshow(compressed_img, cmap='gray')\n",
        "\n",
        "#save plot (original image + compressed)\n",
        "img_name = img_name.split(\".\")\n",
        "img_name = img_name[0]\n",
        "plt.savefig('compressed_img/'+ img_name + '_F=' + str(F_glob) + '_d=' + str(d_glob), bbox_inches='tight')"
      ],
      "execution_count": null,
      "outputs": [
        {
          "output_type": "display_data",
          "data": {
            "image/png": "[encoded data removed]",
            "text/plain": [
              "<Figure size 1440x1440 with 2 Axes>"
            ]
          },
          "metadata": {
            "tags": [],
            "needs_background": "light"
          }
        }
      ]
    }
  ]
}